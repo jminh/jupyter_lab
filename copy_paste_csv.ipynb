{
 "cells": [
  {
   "cell_type": "markdown",
   "metadata": {
    "toc": "true"
   },
   "source": [
    "# Table of Contents\n",
    " <p><div class=\"lev1\"><a href=\"#Multi-index\"><span class=\"toc-item-num\">1&nbsp;&nbsp;</span>Multi index</a></div>"
   ]
  },
  {
   "cell_type": "code",
   "execution_count": null,
   "metadata": {
    "collapsed": false
   },
   "outputs": [],
   "source": [
    "import matplotlib.pyplot as plt\n",
    "%matplotlib inline"
   ]
  },
  {
   "cell_type": "code",
   "execution_count": null,
   "metadata": {
    "collapsed": false
   },
   "outputs": [],
   "source": [
    "import matplotlib\n",
    "matplotlib.style.use('ggplot')"
   ]
  },
  {
   "cell_type": "code",
   "execution_count": null,
   "metadata": {
    "collapsed": true
   },
   "outputs": [],
   "source": [
    "import pandas as pd\n",
    "\n",
    "import sys\n",
    "if sys.version_info[0] < 3: \n",
    "    from StringIO import StringIO\n",
    "else:\n",
    "    from io import StringIO"
   ]
  },
  {
   "cell_type": "code",
   "execution_count": null,
   "metadata": {
    "collapsed": true
   },
   "outputs": [],
   "source": []
  },
  {
   "cell_type": "code",
   "execution_count": null,
   "metadata": {
    "collapsed": false
   },
   "outputs": [],
   "source": [
    "df = pd.read_csv(StringIO('''\n",
    "    col1;col2;col3;col4\n",
    "    1;4.4;99;A\n",
    "    2;4.5;200;B\n",
    "    3;4.7;65;C\n",
    "    4;3.2;140;D\n",
    "'''),\n",
    "delimiter=';'\n",
    "# delim_whitespace=True\n",
    ")\n",
    "df"
   ]
  },
  {
   "cell_type": "code",
   "execution_count": null,
   "metadata": {
    "collapsed": false
   },
   "outputs": [],
   "source": [
    "pd.read_csv(StringIO('''\n",
    "col1 col2 col3 col4\n",
    "   1  4.4   99    A\n",
    "   2  4.5  200    B\n",
    "   3  4.7   65    C\n",
    "   4  3.2  140    D\n",
    "'''),\n",
    "delim_whitespace=True)"
   ]
  },
  {
   "cell_type": "code",
   "execution_count": null,
   "metadata": {
    "collapsed": false
   },
   "outputs": [],
   "source": [
    "df.set_index('col4', inplace=True)"
   ]
  },
  {
   "cell_type": "code",
   "execution_count": null,
   "metadata": {
    "collapsed": true
   },
   "outputs": [],
   "source": [
    "df.index.name = 'UID'"
   ]
  },
  {
   "cell_type": "code",
   "execution_count": null,
   "metadata": {
    "collapsed": false
   },
   "outputs": [],
   "source": [
    "df"
   ]
  },
  {
   "cell_type": "code",
   "execution_count": null,
   "metadata": {
    "collapsed": false
   },
   "outputs": [],
   "source": [
    "df.plot(kind='bar')"
   ]
  },
  {
   "cell_type": "code",
   "execution_count": null,
   "metadata": {
    "collapsed": false
   },
   "outputs": [],
   "source": [
    "df.plot(subplots=True, figsize=(6, 6));"
   ]
  },
  {
   "cell_type": "code",
   "execution_count": null,
   "metadata": {
    "collapsed": false
   },
   "outputs": [],
   "source": [
    "df.plot(subplots=True, layout=(2, -1), figsize=(6, 6), sharex=False);"
   ]
  },
  {
   "cell_type": "code",
   "execution_count": null,
   "metadata": {
    "collapsed": true
   },
   "outputs": [],
   "source": []
  },
  {
   "cell_type": "code",
   "execution_count": null,
   "metadata": {
    "collapsed": true
   },
   "outputs": [],
   "source": []
  },
  {
   "cell_type": "markdown",
   "metadata": {
    "collapsed": false
   },
   "source": [
    "# Multi index"
   ]
  },
  {
   "cell_type": "code",
   "execution_count": null,
   "metadata": {
    "collapsed": false
   },
   "outputs": [],
   "source": [
    "df = pd.read_csv(StringIO('''\\\n",
    "from, to, dep, freq, arr, code, mode\n",
    "RGBOXFD,RGBPADTON,127,0,27,99999,2\n",
    "RGBOXFD,RGBPADTON,127,0,33,99999,2\n",
    "RGBOXFD,RGBRDLEY,127,0,1425,99999,2\n",
    "RGBOXFD,RGBCHOLSEY,127,0,52,99999,2\n",
    "RGBOXFD,RGBMDNHEAD,127,0,91,99999,2\n",
    "RGBDIDCOTP,RGBPADTON,127,0,46,99999,2\n",
    "RGBDIDCOTP,RGBPADTON,127,0,3,99999,2\n",
    "RGBDIDCOTP,RGBCHOLSEY,127,0,61,99999,2\n",
    "RGBDIDCOTP,RGBRDLEY,127,0,1430,99999,2\n",
    "RGBDIDCOTP,RGBPADTON,127,0,115,99999,2\n",
    "'''), index_col=[0, 1], skipinitialspace=True)"
   ]
  },
  {
   "cell_type": "code",
   "execution_count": null,
   "metadata": {
    "collapsed": false
   },
   "outputs": [],
   "source": [
    "df"
   ]
  },
  {
   "cell_type": "code",
   "execution_count": null,
   "metadata": {
    "collapsed": true
   },
   "outputs": [],
   "source": []
  },
  {
   "cell_type": "code",
   "execution_count": null,
   "metadata": {
    "collapsed": false
   },
   "outputs": [],
   "source": [
    "df = pd.read_csv(StringIO('''\n",
    "Male, Male, Male, Female\n",
    "R, R, L, R\n",
    ".86, .67, .88, .78, .81\n",
    "'''), header=[0, 1])\n",
    "df"
   ]
  },
  {
   "cell_type": "code",
   "execution_count": null,
   "metadata": {
    "collapsed": true
   },
   "outputs": [],
   "source": []
  },
  {
   "cell_type": "code",
   "execution_count": null,
   "metadata": {
    "collapsed": true
   },
   "outputs": [],
   "source": []
  },
  {
   "cell_type": "code",
   "execution_count": null,
   "metadata": {
    "collapsed": false
   },
   "outputs": [],
   "source": [
    "df = pd.read_csv(StringIO('''\n",
    "C0,,C_l0_g0,C_l0_g1,C_l0_g2\n",
    "C1,,C_l1_g0,C_l1_g1,C_l1_g2\n",
    "C2,,C_l2_g0,C_l2_g1,C_l2_g2\n",
    "C3,,C_l3_g0,C_l3_g1,C_l3_g2\n",
    "R0,R1,,,\n",
    "R_l0_g0,R_l1_g0,R0C0,R0C1,R0C2\n",
    "R_l0_g1,R_l1_g1,R1C0,R1C1,R1C2\n",
    "R_l0_g2,R_l1_g2,R2C0,R2C1,R2C2\n",
    "R_l0_g3,R_l1_g3,R3C0,R3C1,R3C2\n",
    "R_l0_g4,R_l1_g4,R4C0,R4C1,R4C2\n",
    "'''), header=[0,1,2,3], index_col=[0,1], skipinitialspace=True)\n",
    "df"
   ]
  },
  {
   "cell_type": "code",
   "execution_count": null,
   "metadata": {
    "collapsed": true
   },
   "outputs": [],
   "source": []
  },
  {
   "cell_type": "code",
   "execution_count": null,
   "metadata": {
    "collapsed": true
   },
   "outputs": [],
   "source": []
  },
  {
   "cell_type": "code",
   "execution_count": null,
   "metadata": {
    "collapsed": true
   },
   "outputs": [],
   "source": []
  },
  {
   "cell_type": "code",
   "execution_count": null,
   "metadata": {
    "collapsed": true
   },
   "outputs": [],
   "source": []
  }
 ],
 "metadata": {
  "kernelspec": {
   "display_name": "Python 3",
   "language": "python",
   "name": "python3"
  },
  "language_info": {
   "codemirror_mode": {
    "name": "ipython",
    "version": 3
   },
   "file_extension": ".py",
   "mimetype": "text/x-python",
   "name": "python",
   "nbconvert_exporter": "python",
   "pygments_lexer": "ipython3",
   "version": "3.5.2"
  },
  "nav_menu": {},
  "toc": {
   "navigate_menu": true,
   "number_sections": false,
   "sideBar": false,
   "threshold": 6,
   "toc_cell": true,
   "toc_section_display": "block",
   "toc_window_display": true
  }
 },
 "nbformat": 4,
 "nbformat_minor": 0
}
