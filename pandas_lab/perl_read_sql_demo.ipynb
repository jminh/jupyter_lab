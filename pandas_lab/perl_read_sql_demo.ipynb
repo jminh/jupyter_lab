{
 "cells": [
  {
   "cell_type": "markdown",
   "metadata": {
    "toc": "true"
   },
   "source": [
    "# Table of Contents\n",
    " <p><div class=\"lev1\"><a href=\"#Create-a-database\"><span class=\"toc-item-num\">1&nbsp;&nbsp;</span>Create a database</a></div><div class=\"lev1\"><a href=\"#Perl-SQL\"><span class=\"toc-item-num\">2&nbsp;&nbsp;</span>Perl SQL</a></div>"
   ]
  },
  {
   "cell_type": "markdown",
   "metadata": {},
   "source": [
    "# Create a database"
   ]
  },
  {
   "cell_type": "code",
   "execution_count": 2,
   "metadata": {
    "collapsed": false
   },
   "outputs": [
    {
     "data": {
      "text/html": [
       "<div>\n",
       "<table border=\"1\" class=\"dataframe\">\n",
       "  <thead>\n",
       "    <tr style=\"text-align: right;\">\n",
       "      <th></th>\n",
       "      <th>UID</th>\n",
       "      <th>r1</th>\n",
       "      <th>r2</th>\n",
       "      <th>ds</th>\n",
       "    </tr>\n",
       "  </thead>\n",
       "  <tbody>\n",
       "    <tr>\n",
       "      <th>0</th>\n",
       "      <td>1</td>\n",
       "      <td>100</td>\n",
       "      <td>198</td>\n",
       "      <td>2.3</td>\n",
       "    </tr>\n",
       "    <tr>\n",
       "      <th>1</th>\n",
       "      <td>2</td>\n",
       "      <td>103</td>\n",
       "      <td>201</td>\n",
       "      <td>2.1</td>\n",
       "    </tr>\n",
       "    <tr>\n",
       "      <th>2</th>\n",
       "      <td>3</td>\n",
       "      <td>97</td>\n",
       "      <td>209</td>\n",
       "      <td>1.8</td>\n",
       "    </tr>\n",
       "  </tbody>\n",
       "</table>\n",
       "</div>"
      ],
      "text/plain": [
       "   UID   r1   r2   ds\n",
       "0    1  100  198  2.3\n",
       "1    2  103  201  2.1\n",
       "2    3   97  209  1.8"
      ]
     },
     "execution_count": 2,
     "metadata": {},
     "output_type": "execute_result"
    }
   ],
   "source": [
    "import pandas as pd\n",
    "from sqlalchemy import create_engine # database connection\n",
    "\n",
    "import sys\n",
    "if sys.version_info[0] < 3: \n",
    "    from StringIO import StringIO\n",
    "else:\n",
    "    from io import StringIO\n",
    "    \n",
    "df = pd.read_csv(StringIO('''\n",
    "UID,r1,r2,ds\n",
    "1, 100, 198, 2.3\n",
    "2, 103, 201, 2.1\n",
    "3, 97, 209, 1.8\n",
    "'''),\n",
    "delimiter=','\n",
    "# delim_whitespace=True\n",
    ")\n",
    "df"
   ]
  },
  {
   "cell_type": "code",
   "execution_count": 3,
   "metadata": {
    "collapsed": true
   },
   "outputs": [],
   "source": [
    "disk_engine = create_engine('sqlite:///hello.db')\n",
    "# if_exists : {‘fail’, ‘replace’, ‘append’}, default ‘fail’\n",
    "df.to_sql('ft', disk_engine, if_exists='replace', index=False)"
   ]
  },
  {
   "cell_type": "code",
   "execution_count": 4,
   "metadata": {
    "collapsed": false
   },
   "outputs": [
    {
     "data": {
      "text/html": [
       "<div>\n",
       "<table border=\"1\" class=\"dataframe\">\n",
       "  <thead>\n",
       "    <tr style=\"text-align: right;\">\n",
       "      <th></th>\n",
       "      <th>UID</th>\n",
       "      <th>r1</th>\n",
       "      <th>r2</th>\n",
       "      <th>ds</th>\n",
       "    </tr>\n",
       "  </thead>\n",
       "  <tbody>\n",
       "    <tr>\n",
       "      <th>0</th>\n",
       "      <td>1</td>\n",
       "      <td>100</td>\n",
       "      <td>198</td>\n",
       "      <td>2.3</td>\n",
       "    </tr>\n",
       "    <tr>\n",
       "      <th>1</th>\n",
       "      <td>2</td>\n",
       "      <td>103</td>\n",
       "      <td>201</td>\n",
       "      <td>2.1</td>\n",
       "    </tr>\n",
       "    <tr>\n",
       "      <th>2</th>\n",
       "      <td>3</td>\n",
       "      <td>97</td>\n",
       "      <td>209</td>\n",
       "      <td>1.8</td>\n",
       "    </tr>\n",
       "  </tbody>\n",
       "</table>\n",
       "</div>"
      ],
      "text/plain": [
       "   UID   r1   r2   ds\n",
       "0    1  100  198  2.3\n",
       "1    2  103  201  2.1\n",
       "2    3   97  209  1.8"
      ]
     },
     "execution_count": 4,
     "metadata": {},
     "output_type": "execute_result"
    }
   ],
   "source": [
    "pd.read_sql_query('SELECT * FROM ft', disk_engine)"
   ]
  },
  {
   "cell_type": "markdown",
   "metadata": {},
   "source": [
    "# Perl SQL"
   ]
  },
  {
   "cell_type": "code",
   "execution_count": 1,
   "metadata": {
    "collapsed": false
   },
   "outputs": [
    {
     "name": "stdout",
     "output_type": "stream",
     "text": [
      "Opened database successfully\n",
      "ID = 1\n",
      "NAME = 100\n",
      "ADDRESS = 198\n",
      "SALARY =  2.3\n",
      "\n",
      "ID = 2\n",
      "NAME = 103\n",
      "ADDRESS = 201\n",
      "SALARY =  2.1\n",
      "\n",
      "ID = 3\n",
      "NAME = 97\n",
      "ADDRESS = 209\n",
      "SALARY =  1.8\n",
      "\n",
      "Operation done successfully\n"
     ]
    }
   ],
   "source": [
    "%%perl\n",
    "\n",
    "use DBI;\n",
    "use strict;\n",
    "\n",
    "my $driver   = \"SQLite\";\n",
    "my $database = \"hello.db\";\n",
    "my $dsn = \"DBI:$driver:dbname=$database\";\n",
    "\n",
    "my $userid = \"\";\n",
    "my $password = \"\";\n",
    "my $dbh = DBI->connect($dsn, $userid, $password, { RaiseError => 1 })\n",
    "                      or die $DBI::errstr;\n",
    "print \"Opened database successfully\\n\";\n",
    "\n",
    "my $stmt = qq(SELECT * from ft;);\n",
    "my $sth = $dbh->prepare( $stmt );\n",
    "my $rv = $sth->execute() or die $DBI::errstr;\n",
    "if($rv < 0){\n",
    "   print $DBI::errstr;\n",
    "}\n",
    "while(my @row = $sth->fetchrow_array()) {\n",
    "      print \"ID = \". $row[0] . \"\\n\";\n",
    "      print \"NAME = \". $row[1] .\"\\n\";\n",
    "      print \"ADDRESS = \". $row[2] .\"\\n\";\n",
    "      print \"SALARY =  \". $row[3] .\"\\n\\n\";\n",
    "}\n",
    "print \"Operation done successfully\\n\";\n",
    "$dbh->disconnect();"
   ]
  },
  {
   "cell_type": "markdown",
   "metadata": {
    "collapsed": true
   },
   "source": [
    "perl sqlite3\n",
    "\n",
    "https://www.tutorialspoint.com/sqlite/sqlite_perl.htm"
   ]
  }
 ],
 "metadata": {
  "kernelspec": {
   "display_name": "Python 3",
   "language": "python",
   "name": "python3"
  },
  "language_info": {
   "codemirror_mode": {
    "name": "ipython",
    "version": 3
   },
   "file_extension": ".py",
   "mimetype": "text/x-python",
   "name": "python",
   "nbconvert_exporter": "python",
   "pygments_lexer": "ipython3",
   "version": "3.5.2"
  },
  "nav_menu": {},
  "toc": {
   "navigate_menu": true,
   "number_sections": true,
   "sideBar": false,
   "threshold": 6,
   "toc_cell": true,
   "toc_section_display": "block",
   "toc_window_display": true
  }
 },
 "nbformat": 4,
 "nbformat_minor": 0
}
