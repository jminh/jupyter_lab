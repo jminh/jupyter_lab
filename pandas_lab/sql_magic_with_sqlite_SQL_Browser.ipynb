{
 "cells": [
  {
   "cell_type": "markdown",
   "metadata": {
    "toc": "true"
   },
   "source": [
    "# Table of Contents\n",
    " <p><div class=\"lev1\"><a href=\"#generate-database-hello.db,-world.db\"><span class=\"toc-item-num\">1&nbsp;&nbsp;</span>generate database hello.db, world.db</a></div><div class=\"lev1\"><a href=\"#load-sql-extension\"><span class=\"toc-item-num\">2&nbsp;&nbsp;</span>load sql extension</a></div><div class=\"lev1\"><a href=\"#list-table\"><span class=\"toc-item-num\">3&nbsp;&nbsp;</span>list table</a></div><div class=\"lev1\"><a href=\"#list-column,-schema\"><span class=\"toc-item-num\">4&nbsp;&nbsp;</span>list column, schema</a></div><div class=\"lev1\"><a href=\"#connect-db\"><span class=\"toc-item-num\">5&nbsp;&nbsp;</span>connect db</a></div><div class=\"lev1\"><a href=\"#pandas\"><span class=\"toc-item-num\">6&nbsp;&nbsp;</span>pandas</a></div>"
   ]
  },
  {
   "cell_type": "markdown",
   "metadata": {},
   "source": [
    "# generate database hello.db, world.db"
   ]
  },
  {
   "cell_type": "code",
   "execution_count": 1,
   "metadata": {
    "collapsed": false
   },
   "outputs": [
    {
     "name": "stdout",
     "output_type": "stream",
     "text": [
      "hello.db  hellow.db helo.db   test.db   world.db\n",
      "hello.db   hellow.db  helo.db    test.db    world.db\n",
      "Done.\n",
      "Done.\n",
      "Done.\n",
      "Done.\n",
      "world.db\n",
      "Done.\n",
      "Done.\n",
      "<class 'pandas.core.frame.DataFrame'>\n",
      "RangeIndex: 2 entries, 0 to 1\n",
      "Data columns (total 7 columns):\n",
      "user_id          2 non-null int64\n",
      "username         2 non-null object\n",
      "email_address    2 non-null object\n",
      "phone            2 non-null object\n",
      "password         2 non-null object\n",
      "created_on       2 non-null object\n",
      "updated_on       2 non-null object\n",
      "dtypes: int64(1), object(6)\n",
      "memory usage: 192.0+ bytes\n",
      "<class 'pandas.core.frame.DataFrame'>\n",
      "RangeIndex: 2 entries, 0 to 1\n",
      "Data columns (total 7 columns):\n",
      "user_id          2 non-null int64\n",
      "username         2 non-null object\n",
      "email_address    2 non-null object\n",
      "phone            2 non-null object\n",
      "password         2 non-null object\n",
      "created_on       2 non-null datetime64[ns]\n",
      "updated_on       2 non-null object\n",
      "dtypes: datetime64[ns](1), int64(1), object(5)\n",
      "memory usage: 192.0+ bytes\n"
     ]
    }
   ],
   "source": [
    "run sql_magic_utc_now_datetime.ipynb"
   ]
  },
  {
   "cell_type": "markdown",
   "metadata": {},
   "source": [
    "# load sql extension"
   ]
  },
  {
   "cell_type": "code",
   "execution_count": 2,
   "metadata": {
    "collapsed": false
   },
   "outputs": [
    {
     "name": "stdout",
     "output_type": "stream",
     "text": [
      "The sql extension is already loaded. To reload it, use:\n",
      "  %reload_ext sql\n"
     ]
    }
   ],
   "source": [
    "%load_ext sql"
   ]
  },
  {
   "cell_type": "markdown",
   "metadata": {},
   "source": [
    "# list table"
   ]
  },
  {
   "cell_type": "code",
   "execution_count": 3,
   "metadata": {
    "collapsed": false
   },
   "outputs": [
    {
     "name": "stdout",
     "output_type": "stream",
     "text": [
      "Done.\n"
     ]
    },
    {
     "data": {
      "text/html": [
       "<table>\n",
       "    <tr>\n",
       "        <th>name</th>\n",
       "    </tr>\n",
       "    <tr>\n",
       "        <td>users</td>\n",
       "    </tr>\n",
       "</table>"
      ],
      "text/plain": [
       "[('users',)]"
      ]
     },
     "execution_count": 3,
     "metadata": {},
     "output_type": "execute_result"
    }
   ],
   "source": [
    "%%sql sqlite:///hello.db\n",
    "\n",
    "SELECT name FROM sqlite_master WHERE type='table'"
   ]
  },
  {
   "cell_type": "code",
   "execution_count": 4,
   "metadata": {
    "collapsed": false
   },
   "outputs": [
    {
     "name": "stdout",
     "output_type": "stream",
     "text": [
      "Done.\n"
     ]
    },
    {
     "data": {
      "text/html": [
       "<table>\n",
       "    <tr>\n",
       "        <th>name</th>\n",
       "    </tr>\n",
       "    <tr>\n",
       "        <td>users</td>\n",
       "    </tr>\n",
       "</table>"
      ],
      "text/plain": [
       "[('users',)]"
      ]
     },
     "execution_count": 4,
     "metadata": {},
     "output_type": "execute_result"
    }
   ],
   "source": [
    "%%sql sqlite:///world.db\n",
    "\n",
    "SELECT name FROM sqlite_master WHERE type='table'"
   ]
  },
  {
   "cell_type": "code",
   "execution_count": 5,
   "metadata": {
    "collapsed": false
   },
   "outputs": [
    {
     "name": "stdout",
     "output_type": "stream",
     "text": [
      "Done.\n"
     ]
    },
    {
     "data": {
      "text/html": [
       "<table>\n",
       "    <tr>\n",
       "        <th>cid</th>\n",
       "        <th>name</th>\n",
       "        <th>type</th>\n",
       "        <th>notnull</th>\n",
       "        <th>dflt_value</th>\n",
       "        <th>pk</th>\n",
       "    </tr>\n",
       "    <tr>\n",
       "        <td>0</td>\n",
       "        <td>user_id</td>\n",
       "        <td>INTEGER</td>\n",
       "        <td>1</td>\n",
       "        <td>None</td>\n",
       "        <td>1</td>\n",
       "    </tr>\n",
       "    <tr>\n",
       "        <td>1</td>\n",
       "        <td>username</td>\n",
       "        <td>VARCHAR(15)</td>\n",
       "        <td>1</td>\n",
       "        <td>None</td>\n",
       "        <td>0</td>\n",
       "    </tr>\n",
       "    <tr>\n",
       "        <td>2</td>\n",
       "        <td>email_address</td>\n",
       "        <td>VARCHAR(255)</td>\n",
       "        <td>1</td>\n",
       "        <td>None</td>\n",
       "        <td>0</td>\n",
       "    </tr>\n",
       "    <tr>\n",
       "        <td>3</td>\n",
       "        <td>phone</td>\n",
       "        <td>VARCHAR(20)</td>\n",
       "        <td>1</td>\n",
       "        <td>None</td>\n",
       "        <td>0</td>\n",
       "    </tr>\n",
       "    <tr>\n",
       "        <td>4</td>\n",
       "        <td>password</td>\n",
       "        <td>VARCHAR(25)</td>\n",
       "        <td>1</td>\n",
       "        <td>None</td>\n",
       "        <td>0</td>\n",
       "    </tr>\n",
       "    <tr>\n",
       "        <td>5</td>\n",
       "        <td>created_on</td>\n",
       "        <td>DATETIME</td>\n",
       "        <td>0</td>\n",
       "        <td>None</td>\n",
       "        <td>0</td>\n",
       "    </tr>\n",
       "    <tr>\n",
       "        <td>6</td>\n",
       "        <td>updated_on</td>\n",
       "        <td>DATETIME</td>\n",
       "        <td>0</td>\n",
       "        <td>None</td>\n",
       "        <td>0</td>\n",
       "    </tr>\n",
       "</table>"
      ],
      "text/plain": [
       "[(0, 'user_id', 'INTEGER', 1, None, 1),\n",
       " (1, 'username', 'VARCHAR(15)', 1, None, 0),\n",
       " (2, 'email_address', 'VARCHAR(255)', 1, None, 0),\n",
       " (3, 'phone', 'VARCHAR(20)', 1, None, 0),\n",
       " (4, 'password', 'VARCHAR(25)', 1, None, 0),\n",
       " (5, 'created_on', 'DATETIME', 0, None, 0),\n",
       " (6, 'updated_on', 'DATETIME', 0, None, 0)]"
      ]
     },
     "execution_count": 5,
     "metadata": {},
     "output_type": "execute_result"
    }
   ],
   "source": [
    "%%sql sqlite:///hello.db\n",
    "PRAGMA table_info(users)"
   ]
  },
  {
   "cell_type": "markdown",
   "metadata": {},
   "source": [
    "# list column, schema"
   ]
  },
  {
   "cell_type": "code",
   "execution_count": 6,
   "metadata": {
    "collapsed": false
   },
   "outputs": [
    {
     "name": "stdout",
     "output_type": "stream",
     "text": [
      "Done.\n"
     ]
    },
    {
     "data": {
      "text/html": [
       "<table>\n",
       "    <tr>\n",
       "        <th>cid</th>\n",
       "        <th>name</th>\n",
       "        <th>type</th>\n",
       "        <th>notnull</th>\n",
       "        <th>dflt_value</th>\n",
       "        <th>pk</th>\n",
       "    </tr>\n",
       "    <tr>\n",
       "        <td>0</td>\n",
       "        <td>user_id</td>\n",
       "        <td>INTEGER</td>\n",
       "        <td>1</td>\n",
       "        <td>None</td>\n",
       "        <td>1</td>\n",
       "    </tr>\n",
       "    <tr>\n",
       "        <td>1</td>\n",
       "        <td>username</td>\n",
       "        <td>VARCHAR(15)</td>\n",
       "        <td>1</td>\n",
       "        <td>None</td>\n",
       "        <td>0</td>\n",
       "    </tr>\n",
       "    <tr>\n",
       "        <td>2</td>\n",
       "        <td>email_address</td>\n",
       "        <td>VARCHAR(255)</td>\n",
       "        <td>1</td>\n",
       "        <td>None</td>\n",
       "        <td>0</td>\n",
       "    </tr>\n",
       "    <tr>\n",
       "        <td>3</td>\n",
       "        <td>phone</td>\n",
       "        <td>VARCHAR(20)</td>\n",
       "        <td>1</td>\n",
       "        <td>None</td>\n",
       "        <td>0</td>\n",
       "    </tr>\n",
       "    <tr>\n",
       "        <td>4</td>\n",
       "        <td>password</td>\n",
       "        <td>VARCHAR(25)</td>\n",
       "        <td>1</td>\n",
       "        <td>None</td>\n",
       "        <td>0</td>\n",
       "    </tr>\n",
       "    <tr>\n",
       "        <td>5</td>\n",
       "        <td>created_on</td>\n",
       "        <td>DATETIME</td>\n",
       "        <td>0</td>\n",
       "        <td>None</td>\n",
       "        <td>0</td>\n",
       "    </tr>\n",
       "    <tr>\n",
       "        <td>6</td>\n",
       "        <td>updated_on</td>\n",
       "        <td>DATETIME</td>\n",
       "        <td>0</td>\n",
       "        <td>None</td>\n",
       "        <td>0</td>\n",
       "    </tr>\n",
       "</table>"
      ],
      "text/plain": [
       "[(0, 'user_id', 'INTEGER', 1, None, 1),\n",
       " (1, 'username', 'VARCHAR(15)', 1, None, 0),\n",
       " (2, 'email_address', 'VARCHAR(255)', 1, None, 0),\n",
       " (3, 'phone', 'VARCHAR(20)', 1, None, 0),\n",
       " (4, 'password', 'VARCHAR(25)', 1, None, 0),\n",
       " (5, 'created_on', 'DATETIME', 0, None, 0),\n",
       " (6, 'updated_on', 'DATETIME', 0, None, 0)]"
      ]
     },
     "execution_count": 6,
     "metadata": {},
     "output_type": "execute_result"
    }
   ],
   "source": [
    "%%sql sqlite:///hello.db\n",
    "PRAGMA table_info(users)"
   ]
  },
  {
   "cell_type": "markdown",
   "metadata": {},
   "source": [
    "# connect db"
   ]
  },
  {
   "cell_type": "code",
   "execution_count": 7,
   "metadata": {
    "collapsed": false
   },
   "outputs": [
    {
     "data": {
      "text/plain": [
       "'Connected: None@hello.db'"
      ]
     },
     "execution_count": 7,
     "metadata": {},
     "output_type": "execute_result"
    }
   ],
   "source": [
    "%sql sqlite:///hello.db"
   ]
  },
  {
   "cell_type": "code",
   "execution_count": 8,
   "metadata": {
    "collapsed": false
   },
   "outputs": [
    {
     "name": "stdout",
     "output_type": "stream",
     "text": [
      "Done.\n"
     ]
    },
    {
     "data": {
      "text/html": [
       "<table>\n",
       "    <tr>\n",
       "        <th>cid</th>\n",
       "        <th>name</th>\n",
       "        <th>type</th>\n",
       "        <th>notnull</th>\n",
       "        <th>dflt_value</th>\n",
       "        <th>pk</th>\n",
       "    </tr>\n",
       "    <tr>\n",
       "        <td>0</td>\n",
       "        <td>user_id</td>\n",
       "        <td>INTEGER</td>\n",
       "        <td>1</td>\n",
       "        <td>None</td>\n",
       "        <td>1</td>\n",
       "    </tr>\n",
       "    <tr>\n",
       "        <td>1</td>\n",
       "        <td>username</td>\n",
       "        <td>VARCHAR(15)</td>\n",
       "        <td>1</td>\n",
       "        <td>None</td>\n",
       "        <td>0</td>\n",
       "    </tr>\n",
       "    <tr>\n",
       "        <td>2</td>\n",
       "        <td>email_address</td>\n",
       "        <td>VARCHAR(255)</td>\n",
       "        <td>1</td>\n",
       "        <td>None</td>\n",
       "        <td>0</td>\n",
       "    </tr>\n",
       "    <tr>\n",
       "        <td>3</td>\n",
       "        <td>phone</td>\n",
       "        <td>VARCHAR(20)</td>\n",
       "        <td>1</td>\n",
       "        <td>None</td>\n",
       "        <td>0</td>\n",
       "    </tr>\n",
       "    <tr>\n",
       "        <td>4</td>\n",
       "        <td>password</td>\n",
       "        <td>VARCHAR(25)</td>\n",
       "        <td>1</td>\n",
       "        <td>None</td>\n",
       "        <td>0</td>\n",
       "    </tr>\n",
       "    <tr>\n",
       "        <td>5</td>\n",
       "        <td>created_on</td>\n",
       "        <td>DATETIME</td>\n",
       "        <td>0</td>\n",
       "        <td>None</td>\n",
       "        <td>0</td>\n",
       "    </tr>\n",
       "    <tr>\n",
       "        <td>6</td>\n",
       "        <td>updated_on</td>\n",
       "        <td>DATETIME</td>\n",
       "        <td>0</td>\n",
       "        <td>None</td>\n",
       "        <td>0</td>\n",
       "    </tr>\n",
       "</table>"
      ],
      "text/plain": [
       "[(0, 'user_id', 'INTEGER', 1, None, 1),\n",
       " (1, 'username', 'VARCHAR(15)', 1, None, 0),\n",
       " (2, 'email_address', 'VARCHAR(255)', 1, None, 0),\n",
       " (3, 'phone', 'VARCHAR(20)', 1, None, 0),\n",
       " (4, 'password', 'VARCHAR(25)', 1, None, 0),\n",
       " (5, 'created_on', 'DATETIME', 0, None, 0),\n",
       " (6, 'updated_on', 'DATETIME', 0, None, 0)]"
      ]
     },
     "execution_count": 8,
     "metadata": {},
     "output_type": "execute_result"
    }
   ],
   "source": [
    "%%sql\n",
    "PRAGMA table_info(users)"
   ]
  },
  {
   "cell_type": "markdown",
   "metadata": {},
   "source": [
    "# pandas"
   ]
  },
  {
   "cell_type": "code",
   "execution_count": 9,
   "metadata": {
    "collapsed": true
   },
   "outputs": [],
   "source": [
    "import pandas as pd"
   ]
  },
  {
   "cell_type": "code",
   "execution_count": 10,
   "metadata": {
    "collapsed": false
   },
   "outputs": [
    {
     "name": "stdout",
     "output_type": "stream",
     "text": [
      "Done.\n"
     ]
    },
    {
     "data": {
      "text/html": [
       "<div>\n",
       "<table border=\"1\" class=\"dataframe\">\n",
       "  <thead>\n",
       "    <tr style=\"text-align: right;\">\n",
       "      <th></th>\n",
       "      <th>user_id</th>\n",
       "      <th>username</th>\n",
       "      <th>email_address</th>\n",
       "      <th>phone</th>\n",
       "      <th>password</th>\n",
       "      <th>created_on</th>\n",
       "      <th>updated_on</th>\n",
       "    </tr>\n",
       "  </thead>\n",
       "  <tbody>\n",
       "    <tr>\n",
       "      <th>0</th>\n",
       "      <td>1</td>\n",
       "      <td>hello</td>\n",
       "      <td>hello@world</td>\n",
       "      <td>123</td>\n",
       "      <td>abc</td>\n",
       "      <td>2017-02-15 20:22:25.937488</td>\n",
       "      <td>2017-02-15 20:22:25.937517</td>\n",
       "    </tr>\n",
       "    <tr>\n",
       "      <th>1</th>\n",
       "      <td>2</td>\n",
       "      <td>世界</td>\n",
       "      <td>hello@world</td>\n",
       "      <td>123</td>\n",
       "      <td>abc</td>\n",
       "      <td>2017-02-15 20:22:25.948023</td>\n",
       "      <td>2017-02-15 20:22:25.948039</td>\n",
       "    </tr>\n",
       "  </tbody>\n",
       "</table>\n",
       "</div>"
      ],
      "text/plain": [
       "   user_id username email_address phone password                  created_on  \\\n",
       "0        1    hello   hello@world   123      abc  2017-02-15 20:22:25.937488   \n",
       "1        2       世界   hello@world   123      abc  2017-02-15 20:22:25.948023   \n",
       "\n",
       "                   updated_on  \n",
       "0  2017-02-15 20:22:25.937517  \n",
       "1  2017-02-15 20:22:25.948039  "
      ]
     },
     "execution_count": 10,
     "metadata": {},
     "output_type": "execute_result"
    }
   ],
   "source": [
    "df = %sql SELECT * FROM users\n",
    "df = df.DataFrame()\n",
    "df.head()"
   ]
  },
  {
   "cell_type": "code",
   "execution_count": null,
   "metadata": {
    "collapsed": true
   },
   "outputs": [],
   "source": []
  },
  {
   "cell_type": "code",
   "execution_count": null,
   "metadata": {
    "collapsed": true
   },
   "outputs": [],
   "source": []
  },
  {
   "cell_type": "code",
   "execution_count": null,
   "metadata": {
    "collapsed": true
   },
   "outputs": [],
   "source": []
  },
  {
   "cell_type": "code",
   "execution_count": null,
   "metadata": {
    "collapsed": true
   },
   "outputs": [],
   "source": []
  }
 ],
 "metadata": {
  "kernelspec": {
   "display_name": "Python 3",
   "language": "python",
   "name": "python3"
  },
  "language_info": {
   "codemirror_mode": {
    "name": "ipython",
    "version": 3
   },
   "file_extension": ".py",
   "mimetype": "text/x-python",
   "name": "python",
   "nbconvert_exporter": "python",
   "pygments_lexer": "ipython3",
   "version": "3.5.2"
  },
  "nav_menu": {},
  "toc": {
   "navigate_menu": true,
   "number_sections": true,
   "sideBar": true,
   "threshold": 6,
   "toc_cell": true,
   "toc_section_display": "block",
   "toc_window_display": true
  },
  "toc_position": {
   "height": "670px",
   "left": "0px",
   "right": "1255px",
   "top": "106px",
   "width": "185px"
  }
 },
 "nbformat": 4,
 "nbformat_minor": 0
}
